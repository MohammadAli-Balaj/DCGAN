{
  "cells": [
    {
      "cell_type": "markdown",
      "metadata": {
        "id": "view-in-github",
        "colab_type": "text"
      },
      "source": [
        "<a href=\"https://colab.research.google.com/github/MohammadAli-Balaj/DCGAN/blob/main/DCGAN_Anime_Final_Version.ipynb\" target=\"_parent\"><img src=\"https://colab.research.google.com/assets/colab-badge.svg\" alt=\"Open In Colab\"/></a>"
      ]
    },
    {
      "cell_type": "markdown",
      "source": [
        "# Mohammad Ali Balaj\n",
        "## Artificial Neural Networks and Deep Learning II\n",
        "### DCGANs for generating anime faces \n",
        "#### Using ADAM optimizer with 0.0002 learning rate, 15001 epochs and 256 as batch size"
      ],
      "metadata": {
        "id": "LFr3jFqXNmU4"
      }
    },
    {
      "cell_type": "markdown",
      "source": [
        "#GPU information:"
      ],
      "metadata": {
        "id": "9jA4v-syuKkl"
      }
    },
    {
      "cell_type": "code",
      "source": [
        "gpu_info = !nvidia-smi\n",
        "gpu_info = '\\n'.join(gpu_info)\n",
        "if gpu_info.find('failed') >= 0:\n",
        "  print('Not connected to a GPU')\n",
        "else:\n",
        "  print(gpu_info)"
      ],
      "metadata": {
        "id": "waLvwssBGvJd",
        "colab": {
          "base_uri": "https://localhost:8080/"
        },
        "outputId": "90cca6b6-9e23-4fab-ab7b-89bc195571f5"
      },
      "execution_count": null,
      "outputs": [
        {
          "output_type": "stream",
          "name": "stdout",
          "text": [
            "Tue Dec 27 21:52:28 2022       \n",
            "+-----------------------------------------------------------------------------+\n",
            "| NVIDIA-SMI 460.32.03    Driver Version: 460.32.03    CUDA Version: 11.2     |\n",
            "|-------------------------------+----------------------+----------------------+\n",
            "| GPU  Name        Persistence-M| Bus-Id        Disp.A | Volatile Uncorr. ECC |\n",
            "| Fan  Temp  Perf  Pwr:Usage/Cap|         Memory-Usage | GPU-Util  Compute M. |\n",
            "|                               |                      |               MIG M. |\n",
            "|===============================+======================+======================|\n",
            "|   0  Tesla T4            Off  | 00000000:00:04.0 Off |                    0 |\n",
            "| N/A   36C    P0    26W /  70W |      0MiB / 15109MiB |      0%      Default |\n",
            "|                               |                      |                  N/A |\n",
            "+-------------------------------+----------------------+----------------------+\n",
            "                                                                               \n",
            "+-----------------------------------------------------------------------------+\n",
            "| Processes:                                                                  |\n",
            "|  GPU   GI   CI        PID   Type   Process name                  GPU Memory |\n",
            "|        ID   ID                                                   Usage      |\n",
            "|=============================================================================|\n",
            "|  No running processes found                                                 |\n",
            "+-----------------------------------------------------------------------------+\n"
          ]
        }
      ]
    },
    {
      "cell_type": "code",
      "source": [
        "from psutil import virtual_memory\n",
        "ram_gb = virtual_memory().total / 1e9\n",
        "print('Your runtime has {:.1f} gigabytes of available RAM\\n'.format(ram_gb))\n",
        "\n",
        "if ram_gb < 20:\n",
        "  print('Not using a high-RAM runtime')\n",
        "else:\n",
        "  print('You are using a high-RAM runtime!')"
      ],
      "metadata": {
        "id": "9KqymiYBG6Ct",
        "colab": {
          "base_uri": "https://localhost:8080/"
        },
        "outputId": "57d45f76-84ba-4d8a-fc88-439d1ba4fa7f"
      },
      "execution_count": null,
      "outputs": [
        {
          "output_type": "stream",
          "name": "stdout",
          "text": [
            "Your runtime has 27.3 gigabytes of available RAM\n",
            "\n",
            "You are using a high-RAM runtime!\n"
          ]
        }
      ]
    },
    {
      "cell_type": "markdown",
      "source": [
        "# Importing Data:"
      ],
      "metadata": {
        "id": "KnjY7lIPuev0"
      }
    },
    {
      "cell_type": "code",
      "execution_count": null,
      "metadata": {
        "id": "WHsOMoBDeX7C"
      },
      "outputs": [],
      "source": [
        "from google.colab import drive\n",
        "drive.mount('data',force_remount=True)"
      ]
    },
    {
      "cell_type": "code",
      "execution_count": null,
      "metadata": {
        "id": "9KjJc44rhU72"
      },
      "outputs": [],
      "source": [
        "basePath='/content/data/MyDrive/Colab Notebooks/data'"
      ]
    },
    {
      "cell_type": "markdown",
      "source": [
        "# Needed libraries:"
      ],
      "metadata": {
        "id": "s1VRl0uqu8TA"
      }
    },
    {
      "cell_type": "code",
      "execution_count": null,
      "metadata": {
        "id": "vlCZa-jVN53B"
      },
      "outputs": [],
      "source": [
        "import numpy as np\n",
        "import os \n",
        "import matplotlib.pyplot as plt\n",
        "import cv2\n",
        "import warnings\n",
        "warnings.filterwarnings('ignore')\n",
        "import keras\n",
        "from tensorflow.keras.optimizers import Adam,SGD\n",
        "from keras.models import Sequential, Model\n",
        "from keras.layers import Dense, LeakyReLU, Reshape, Flatten, Input\n",
        "from keras.layers import Conv2D, MaxPooling2D, Activation, Dropout, Conv2DTranspose\n",
        "from tensorflow.compat.v1.keras.layers import BatchNormalization"
      ]
    },
    {
      "cell_type": "markdown",
      "source": [
        "# Reading the data:"
      ],
      "metadata": {
        "id": "lUO4tRE1vAf0"
      }
    },
    {
      "cell_type": "code",
      "execution_count": null,
      "metadata": {
        "id": "kpFkWqb9Pky1"
      },
      "outputs": [],
      "source": [
        "def list_images(basePath, contains=None):\n",
        "\n",
        "    return list_files(basePath, validExts=(\".jpg\", \".jpeg\", \".png\", \".bmp\"), contains=contains)"
      ]
    },
    {
      "cell_type": "code",
      "execution_count": null,
      "metadata": {
        "id": "Vl_hQXjfPmD5"
      },
      "outputs": [],
      "source": [
        "def list_files(basePath, validExts=(\".jpg\", \".jpeg\", \".png\", \".bmp\"), contains=None):\n",
        "\n",
        "    for (rootDir, dirNames, filenames) in os.walk(basePath):\n",
        "\n",
        "        for filename in filenames:\n",
        "\n",
        "            if contains is not None and filename.find(contains) == -1:\n",
        "                continue\n",
        "\n",
        "            ext = filename[filename.rfind(\".\"):].lower()\n",
        "\n",
        "\n",
        "            if ext.endswith(validExts):\n",
        "\n",
        "                imagePath = os.path.join(rootDir, filename)\n",
        "                yield imagePath\n",
        "                "
      ]
    },
    {
      "cell_type": "code",
      "execution_count": null,
      "metadata": {
        "id": "TBNBh1IyPmBQ"
      },
      "outputs": [],
      "source": [
        "def load_images(directory='', size=(64,64)):\n",
        "    images = []\n",
        "    labels = []  \n",
        "    label = 0\n",
        "    \n",
        "    imagePaths = list(list_images(directory))\n",
        "    \n",
        "    for path in imagePaths:\n",
        "        \n",
        "        if not('OSX' in path):\n",
        "        \n",
        "            path = path.replace('\\\\','/')\n",
        "\n",
        "            image = cv2.imread(path)\n",
        "            image = cv2.resize(image,size) \n",
        "\n",
        "            images.append(cv2.cvtColor(image, cv2.COLOR_BGR2RGB))\n",
        "    \n",
        "    return images"
      ]
    },
    {
      "cell_type": "code",
      "execution_count": null,
      "metadata": {
        "id": "xTzmiiE8Pl-k"
      },
      "outputs": [],
      "source": [
        "images=load_images(basePath)"
      ]
    },
    {
      "cell_type": "markdown",
      "source": [
        "# Visualizing samples:"
      ],
      "metadata": {
        "id": "5sMMkpX7vE4P"
      }
    },
    {
      "cell_type": "code",
      "execution_count": null,
      "metadata": {
        "id": "m8ATteubPl4f"
      },
      "outputs": [],
      "source": [
        "_,ax = plt.subplots(5,5, figsize = (8,8)) \n",
        "for i in range(5):\n",
        "    for j in range(5):\n",
        "        ax[i,j].imshow(images[5*i+j])\n",
        "        ax[i,j].axis('off')"
      ]
    },
    {
      "cell_type": "markdown",
      "source": [
        "# GAN Class:"
      ],
      "metadata": {
        "id": "mWgM86V7vI1V"
      }
    },
    {
      "cell_type": "code",
      "execution_count": null,
      "metadata": {
        "id": "b2gWkS95Pl1N"
      },
      "outputs": [],
      "source": [
        "class GAN():\n",
        "    def __init__(self):\n",
        "        self.img_shape = (64, 64, 3)\n",
        "        \n",
        "        self.noise_size = 100\n",
        "\n",
        "        optimizer = Adam(0.0002,0.5)\n",
        "        \n",
        "\n",
        "        self.discriminator = self.build_discriminator()\n",
        "        self.discriminator.compile(loss='binary_crossentropy', \n",
        "                                   optimizer=optimizer,\n",
        "                                   metrics=['accuracy'])\n",
        "\n",
        "        self.generator = self.build_generator()\n",
        "        self.generator.compile(loss='binary_crossentropy', optimizer=optimizer)\n",
        "        \n",
        "        self.combined = Sequential()\n",
        "        self.combined.add(self.generator)\n",
        "        self.combined.add(self.discriminator)\n",
        "        \n",
        "        self.discriminator.trainable = False\n",
        "        \n",
        "        self.combined.compile(loss='binary_crossentropy', optimizer=optimizer)\n",
        "        \n",
        "        self.combined.summary()\n",
        "        \n",
        "\n",
        "\n",
        "    def build_generator(self):\n",
        "        epsilon = 0.00001 \n",
        "        noise_shape = (self.noise_size,)\n",
        "        \n",
        "        model = Sequential()\n",
        "        \n",
        "        model.add(Dense(4*4*512, activation='linear', input_shape=noise_shape))\n",
        "        model.add(LeakyReLU(alpha=0.2))\n",
        "        model.add(Reshape((4, 4, 512)))\n",
        "        \n",
        "        model.add(Conv2DTranspose(512, kernel_size=[4,4], strides=[2,2], padding=\"same\",\n",
        "                                  kernel_initializer= keras.initializers.TruncatedNormal(stddev=0.02)))\n",
        "        model.add(BatchNormalization(momentum=0.9, epsilon=epsilon))\n",
        "        model.add(LeakyReLU(alpha=0.2))\n",
        "        \n",
        "        model.add(Conv2DTranspose(256, kernel_size=[4,4], strides=[2,2], padding=\"same\",\n",
        "                                  kernel_initializer= keras.initializers.TruncatedNormal(stddev=0.02)))\n",
        "        model.add(BatchNormalization(momentum=0.9, epsilon=epsilon))\n",
        "        model.add(LeakyReLU(alpha=0.2))\n",
        "        \n",
        "        model.add(Conv2DTranspose(128, kernel_size=[4,4], strides=[2,2], padding=\"same\",\n",
        "                                  kernel_initializer= keras.initializers.TruncatedNormal(stddev=0.02)))\n",
        "        model.add(BatchNormalization(momentum=0.9, epsilon=epsilon))\n",
        "        model.add(LeakyReLU(alpha=0.2))\n",
        "        \n",
        "        model.add(Conv2DTranspose(64, kernel_size=[4,4], strides=[2,2], padding=\"same\",\n",
        "                                  kernel_initializer= keras.initializers.TruncatedNormal(stddev=0.02)))\n",
        "        model.add(BatchNormalization(momentum=0.9, epsilon=epsilon))\n",
        "        model.add(LeakyReLU(alpha=0.2))\n",
        "        \n",
        "        model.add(Conv2DTranspose(3, kernel_size=[4,4], strides=[1,1], padding=\"same\",\n",
        "                                  kernel_initializer= keras.initializers.TruncatedNormal(stddev=0.02)))\n",
        "        \n",
        "        model.add(Activation(\"tanh\"))\n",
        "        \n",
        "        model.summary()\n",
        "\n",
        "        noise = Input(shape=noise_shape)\n",
        "        img = model(noise)\n",
        "\n",
        "        return Model(noise, img)\n",
        "\n",
        "    def build_discriminator(self):\n",
        "\n",
        "        model = Sequential()\n",
        "\n",
        "        model.add(Conv2D(128, (3,3), padding='same', input_shape=self.img_shape))\n",
        "        model.add(LeakyReLU(alpha=0.2))\n",
        "        model.add(BatchNormalization())\n",
        "        model.add(Conv2D(128, (3,3), padding='same'))\n",
        "        model.add(LeakyReLU(alpha=0.2))\n",
        "        model.add(BatchNormalization())\n",
        "        model.add(MaxPooling2D(pool_size=(3,3)))\n",
        "        model.add(Dropout(0.2))\n",
        "\n",
        "        model.add(Conv2D(128, (3,3), padding='same'))\n",
        "        model.add(LeakyReLU(alpha=0.2))\n",
        "        model.add(BatchNormalization())\n",
        "        model.add(Conv2D(128, (3,3), padding='same'))\n",
        "        model.add(LeakyReLU(alpha=0.2))\n",
        "        model.add(BatchNormalization())\n",
        "        model.add(MaxPooling2D(pool_size=(3,3)))\n",
        "        model.add(Dropout(0.3))\n",
        "\n",
        "        model.add(Flatten())\n",
        "        model.add(Dense(128))\n",
        "        model.add(LeakyReLU(alpha=0.2))\n",
        "        model.add(Dense(128))\n",
        "        model.add(LeakyReLU(alpha=0.2))\n",
        "        model.add(Dense(1, activation='sigmoid'))\n",
        "        \n",
        "        model.summary()\n",
        "        \n",
        "        img = Input(shape=self.img_shape)\n",
        "        validity = model(img)\n",
        "\n",
        "        return Model(img, validity)\n",
        "\n",
        "    def train(self, epochs, batch_size=128, metrics_update=50, save_images=100, save_model=2000):\n",
        "\n",
        "        X_train = np.array(images)\n",
        "        X_train = (X_train.astype(np.float32) - 127.5) / 127.5\n",
        "\n",
        "        half_batch = int(batch_size / 2)\n",
        "        \n",
        "        mean_d_loss=[0,0]\n",
        "        mean_g_loss=0\n",
        "\n",
        "        for epoch in range(epochs):\n",
        "            idx = np.random.randint(0, X_train.shape[0], half_batch)\n",
        "            imgs = X_train[idx]\n",
        "\n",
        "            noise = np.random.normal(0, 1, (half_batch, self.noise_size))\n",
        "            gen_imgs = self.generator.predict(noise)\n",
        "\n",
        "\n",
        "            d_loss = 0.5 * np.add(self.discriminator.train_on_batch(imgs, np.ones((half_batch, 1))),\n",
        "                                  self.discriminator.train_on_batch(gen_imgs, np.zeros((half_batch, 1))))\n",
        "\n",
        "\n",
        "            for _ in range(2):\n",
        "                noise = np.random.normal(0, 1, (batch_size, self.noise_size))\n",
        "\n",
        "                valid_y = np.array([1] * batch_size)\n",
        "                g_loss = self.combined.train_on_batch(noise, valid_y)\n",
        "            \n",
        "            mean_d_loss[0] += d_loss[0]\n",
        "            mean_d_loss[1] += d_loss[1]\n",
        "            mean_g_loss += g_loss\n",
        " \n",
        "            if epoch % metrics_update == 0:\n",
        "                print (\"%d [Discriminator loss: %f, acc.: %.2f%%] [Generator loss: %f]\" % (epoch, mean_d_loss[0]/metrics_update, 100*mean_d_loss[1]/metrics_update, mean_g_loss/metrics_update))\n",
        "                mean_d_loss=[0,0]\n",
        "                mean_g_loss=0\n",
        "\n",
        "            if epoch % save_images == 0:\n",
        "                self.save_images(epoch)\n",
        "\n",
        "            if epoch % save_model == 0:\n",
        "                self.generator.save(\"generator_%d\" % epoch)\n",
        "                self.discriminator.save(\"discriminator_%d\" % epoch)\n",
        "\n",
        "    def save_images(self, epoch):\n",
        "        noise = np.random.normal(0, 1, (25, self.noise_size))\n",
        "        gen_imgs = self.generator.predict(noise)\n",
        "        \n",
        "\n",
        "        gen_imgs = 0.5 * gen_imgs + 0.5\n",
        "\n",
        "        fig, axs = plt.subplots(5,5, figsize = (8,8))\n",
        "\n",
        "        for i in range(5):\n",
        "            for j in range(5):\n",
        "                axs[i,j].imshow(gen_imgs[5*i+j])\n",
        "                axs[i,j].axis('off')\n",
        "\n",
        "        plt.show()\n",
        "        \n",
        "        fig.savefig(\"animeGenerated/Faces_%d.png\" % epoch)\n",
        "        plt.close()"
      ]
    },
    {
      "cell_type": "code",
      "execution_count": null,
      "metadata": {
        "id": "_WUEGBw5mPlD"
      },
      "outputs": [],
      "source": [
        "!mkdir animeGenerated"
      ]
    },
    {
      "cell_type": "markdown",
      "source": [
        "# Training Phase:"
      ],
      "metadata": {
        "id": "u3MQdNa4vOJt"
      }
    },
    {
      "cell_type": "code",
      "source": [
        "gan=GAN()\n",
        "gan.train(epochs=15001, batch_size=256, metrics_update=200, save_images=1000, save_model=15000)"
      ],
      "metadata": {
        "id": "zMSMUam7Pt-D"
      },
      "execution_count": null,
      "outputs": []
    },
    {
      "cell_type": "code",
      "source": [
        "print(\"This code snippet has been running successfully!\")"
      ],
      "metadata": {
        "id": "LEri9_cnybFg"
      },
      "execution_count": null,
      "outputs": []
    }
  ],
  "metadata": {
    "accelerator": "GPU",
    "colab": {
      "machine_shape": "hm",
      "provenance": [],
      "include_colab_link": true
    },
    "gpuClass": "premium",
    "kernelspec": {
      "display_name": "Python 3",
      "name": "python3"
    },
    "language_info": {
      "name": "python"
    }
  },
  "nbformat": 4,
  "nbformat_minor": 0
}